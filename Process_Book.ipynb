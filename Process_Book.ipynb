{
 "metadata": {
  "name": "",
  "signature": "sha256:8c205f78c51bdf579b91687fce6477a847ae3e4da9035d892f99b9b6c178395f"
 },
 "nbformat": 3,
 "nbformat_minor": 0,
 "worksheets": [
  {
   "cells": [
    {
     "cell_type": "markdown",
     "metadata": {},
     "source": [
      "**Parts TO DO:**\n",
      "\n",
      "**Overview and Motivation:** Provide an overview of the project goals and the motivation for it. Consider that this will be read by people who did not see your project proposal.\n",
      "\n",
      "**Related Work:** Anything that inspired you, such as a paper, a web site, or something we discussed in class.\n",
      "\n",
      "**Initial Questions:** What questions are you trying to answer? How did these questions evolve over the course of the project? What new questions did you consider in the course of your analysis?\n",
      "\n",
      "**Data:** Source, scraping method, cleanup, etc.\n",
      "\n",
      "**Exploratory Analysis:** What visualizations did you use to look at your data in different ways? What are the different statistical methods you considered? Justify the decisions you made, and show any major changes to your ideas. How did you reach these conclusions?\n",
      "\n",
      "**Final Analysis:** What did you learn about the data? How did you answer the questions? How can you justify your answers?"
     ]
    },
    {
     "cell_type": "heading",
     "level": 1,
     "metadata": {},
     "source": [
      "wEbola: Mapping the Ebola Epidemic"
     ]
    },
    {
     "cell_type": "heading",
     "level": 2,
     "metadata": {},
     "source": [
      "Overview and Motivation"
     ]
    },
    {
     "cell_type": "markdown",
     "metadata": {},
     "source": [
      "Inspired by the recent influx of news coverage of Ebola in the United States, we decided to investigate and conduct further research about Ebola in West Africa. Prior to this class, we all had interests in global health issues, and we thought this would be an incredible topic to explore that not only corresponds with our passions, but also would be relevant long after our project\u2019s conclusion. We noticed that the current fight against Ebola has been largely ineffective and disorganized, so we thought this may be due to a lack of understanding on how to best distribute the resources. We are hoping to parse through the data in a clear and methodical way that will help us figure out key factors that can prevent the spread of Ebola in the future. \n"
     ]
    },
    {
     "cell_type": "heading",
     "level": 2,
     "metadata": {},
     "source": [
      "Related Work"
     ]
    },
    {
     "cell_type": "code",
     "collapsed": false,
     "input": [],
     "language": "python",
     "metadata": {},
     "outputs": [],
     "prompt_number": 0
    },
    {
     "cell_type": "heading",
     "level": 2,
     "metadata": {},
     "source": [
      "Initial Questions"
     ]
    },
    {
     "cell_type": "code",
     "collapsed": false,
     "input": [],
     "language": "python",
     "metadata": {},
     "outputs": [],
     "prompt_number": 0
    },
    {
     "cell_type": "heading",
     "level": 2,
     "metadata": {},
     "source": [
      "Data"
     ]
    },
    {
     "cell_type": "code",
     "collapsed": false,
     "input": [],
     "language": "python",
     "metadata": {},
     "outputs": [],
     "prompt_number": 1
    },
    {
     "cell_type": "heading",
     "level": 2,
     "metadata": {},
     "source": [
      "Exploratory Anaylsis"
     ]
    },
    {
     "cell_type": "code",
     "collapsed": false,
     "input": [],
     "language": "python",
     "metadata": {},
     "outputs": [],
     "prompt_number": 2
    },
    {
     "cell_type": "heading",
     "level": 2,
     "metadata": {},
     "source": [
      "Final Analysis"
     ]
    },
    {
     "cell_type": "code",
     "collapsed": false,
     "input": [],
     "language": "python",
     "metadata": {},
     "outputs": []
    }
   ],
   "metadata": {}
  }
 ]
}