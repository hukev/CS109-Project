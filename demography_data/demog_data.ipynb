{
 "metadata": {
  "name": "",
  "signature": "sha256:1d2cad8b65dbcce7596bb41a993289dc1b22ee9206d4baa9d694d50ce6c1b0b4"
 },
 "nbformat": 3,
 "nbformat_minor": 0,
 "worksheets": [
  {
   "cells": [
    {
     "cell_type": "code",
     "collapsed": false,
     "input": [
      "# special IPython command to prepare the notebook for matplotlib\n",
      "%matplotlib inline \n",
      "\n",
      "import requests \n",
      "from StringIO import StringIO\n",
      "import numpy as np\n",
      "import pandas as pd # pandas\n",
      "import matplotlib.pyplot as plt # module for plotting \n",
      "import datetime as dt # module for manipulating dates and times\n",
      "import numpy.linalg as lin # module for performing linear algebra operations"
     ],
     "language": "python",
     "metadata": {},
     "outputs": [],
     "prompt_number": 1
    },
    {
     "cell_type": "code",
     "collapsed": false,
     "input": [
      "# get demographics tsv object\n",
      "url = \"http://api.qdatum.io/v1/pull/6?format=tsv\"\n",
      "info = pd.read_csv(url, sep='\\t')\n",
      "\n",
      "# see what countries are being used\n",
      "countries = info.drop_duplicates('country').country\n",
      "len(countries)\n",
      "# -> 8\n",
      "\n",
      "countries"
     ],
     "language": "python",
     "metadata": {},
     "outputs": [
      {
       "metadata": {},
       "output_type": "pyout",
       "prompt_number": 2,
       "text": [
        "0     Cote d'Ivoire\n",
        "13           Guinea\n",
        "24           Gambia\n",
        "35    Guinea Bissau\n",
        "47          Liberia\n",
        "65             Mali\n",
        "74          Senegal\n",
        "87     Sierra Leone\n",
        "Name: country, dtype: object"
       ]
      }
     ],
     "prompt_number": 2
    },
    {
     "cell_type": "code",
     "collapsed": false,
     "input": [
      "# Total regional information\n",
      "tot_region = info[(info.region == 'Total')]\n",
      "tot_region.to_csv('/Users/haeunchang/CS109-Project/total_region.csv')"
     ],
     "language": "python",
     "metadata": {},
     "outputs": [
      {
       "ename": "IOError",
       "evalue": "[Errno 2] No such file or directory: 'CS109-Project/total_region.csv'",
       "output_type": "pyerr",
       "traceback": [
        "\u001b[0;31m---------------------------------------------------------------------------\u001b[0m\n\u001b[0;31mIOError\u001b[0m                                   Traceback (most recent call last)",
        "\u001b[0;32m<ipython-input-5-126ad747ddb5>\u001b[0m in \u001b[0;36m<module>\u001b[0;34m()\u001b[0m\n\u001b[1;32m      1\u001b[0m \u001b[0;31m# Total regional information\u001b[0m\u001b[0;34m\u001b[0m\u001b[0;34m\u001b[0m\u001b[0m\n\u001b[1;32m      2\u001b[0m \u001b[0mtot_region\u001b[0m \u001b[0;34m=\u001b[0m \u001b[0minfo\u001b[0m\u001b[0;34m[\u001b[0m\u001b[0;34m(\u001b[0m\u001b[0minfo\u001b[0m\u001b[0;34m.\u001b[0m\u001b[0mregion\u001b[0m \u001b[0;34m==\u001b[0m \u001b[0;34m'Total'\u001b[0m\u001b[0;34m)\u001b[0m\u001b[0;34m]\u001b[0m\u001b[0;34m\u001b[0m\u001b[0m\n\u001b[0;32m----> 3\u001b[0;31m \u001b[0mtot_region\u001b[0m\u001b[0;34m.\u001b[0m\u001b[0mto_csv\u001b[0m\u001b[0;34m(\u001b[0m\u001b[0;34m'CS109-Project/total_region.csv'\u001b[0m\u001b[0;34m)\u001b[0m\u001b[0;34m\u001b[0m\u001b[0m\n\u001b[0m",
        "\u001b[0;32m/Users/kevinhu/anaconda/lib/python2.7/site-packages/pandas/util/decorators.pyc\u001b[0m in \u001b[0;36mwrapper\u001b[0;34m(*args, **kwargs)\u001b[0m\n\u001b[1;32m     58\u001b[0m                 \u001b[0;32melse\u001b[0m\u001b[0;34m:\u001b[0m\u001b[0;34m\u001b[0m\u001b[0m\n\u001b[1;32m     59\u001b[0m                     \u001b[0mkwargs\u001b[0m\u001b[0;34m[\u001b[0m\u001b[0mnew_arg_name\u001b[0m\u001b[0;34m]\u001b[0m \u001b[0;34m=\u001b[0m \u001b[0mold_arg_value\u001b[0m\u001b[0;34m\u001b[0m\u001b[0m\n\u001b[0;32m---> 60\u001b[0;31m             \u001b[0;32mreturn\u001b[0m \u001b[0mfunc\u001b[0m\u001b[0;34m(\u001b[0m\u001b[0;34m*\u001b[0m\u001b[0margs\u001b[0m\u001b[0;34m,\u001b[0m \u001b[0;34m**\u001b[0m\u001b[0mkwargs\u001b[0m\u001b[0;34m)\u001b[0m\u001b[0;34m\u001b[0m\u001b[0m\n\u001b[0m\u001b[1;32m     61\u001b[0m         \u001b[0;32mreturn\u001b[0m \u001b[0mwrapper\u001b[0m\u001b[0;34m\u001b[0m\u001b[0m\n\u001b[1;32m     62\u001b[0m     \u001b[0;32mreturn\u001b[0m \u001b[0m_deprecate_kwarg\u001b[0m\u001b[0;34m\u001b[0m\u001b[0m\n",
        "\u001b[0;32m/Users/kevinhu/anaconda/lib/python2.7/site-packages/pandas/core/frame.pyc\u001b[0m in \u001b[0;36mto_csv\u001b[0;34m(self, path_or_buf, sep, na_rep, float_format, columns, header, index, index_label, mode, encoding, quoting, quotechar, line_terminator, chunksize, tupleize_cols, date_format, doublequote, escapechar, **kwds)\u001b[0m\n\u001b[1;32m   1144\u001b[0m                                      \u001b[0mdoublequote\u001b[0m\u001b[0;34m=\u001b[0m\u001b[0mdoublequote\u001b[0m\u001b[0;34m,\u001b[0m\u001b[0;34m\u001b[0m\u001b[0m\n\u001b[1;32m   1145\u001b[0m                                      escapechar=escapechar)\n\u001b[0;32m-> 1146\u001b[0;31m         \u001b[0mformatter\u001b[0m\u001b[0;34m.\u001b[0m\u001b[0msave\u001b[0m\u001b[0;34m(\u001b[0m\u001b[0;34m)\u001b[0m\u001b[0;34m\u001b[0m\u001b[0m\n\u001b[0m\u001b[1;32m   1147\u001b[0m \u001b[0;34m\u001b[0m\u001b[0m\n\u001b[1;32m   1148\u001b[0m         \u001b[0;32mif\u001b[0m \u001b[0mpath_or_buf\u001b[0m \u001b[0;32mis\u001b[0m \u001b[0mNone\u001b[0m\u001b[0;34m:\u001b[0m\u001b[0;34m\u001b[0m\u001b[0m\n",
        "\u001b[0;32m/Users/kevinhu/anaconda/lib/python2.7/site-packages/pandas/core/format.pyc\u001b[0m in \u001b[0;36msave\u001b[0;34m(self)\u001b[0m\n\u001b[1;32m   1280\u001b[0m         \u001b[0;32melse\u001b[0m\u001b[0;34m:\u001b[0m\u001b[0;34m\u001b[0m\u001b[0m\n\u001b[1;32m   1281\u001b[0m             f = com._get_handle(self.path_or_buf, self.mode,\n\u001b[0;32m-> 1282\u001b[0;31m                                 encoding=self.encoding)\n\u001b[0m\u001b[1;32m   1283\u001b[0m             \u001b[0mclose\u001b[0m \u001b[0;34m=\u001b[0m \u001b[0mTrue\u001b[0m\u001b[0;34m\u001b[0m\u001b[0m\n\u001b[1;32m   1284\u001b[0m \u001b[0;34m\u001b[0m\u001b[0m\n",
        "\u001b[0;32m/Users/kevinhu/anaconda/lib/python2.7/site-packages/pandas/core/common.pyc\u001b[0m in \u001b[0;36m_get_handle\u001b[0;34m(path, mode, encoding, compression)\u001b[0m\n\u001b[1;32m   2371\u001b[0m                 \u001b[0mf\u001b[0m \u001b[0;34m=\u001b[0m \u001b[0mopen\u001b[0m\u001b[0;34m(\u001b[0m\u001b[0mpath\u001b[0m\u001b[0;34m,\u001b[0m \u001b[0mmode\u001b[0m\u001b[0;34m,\u001b[0m \u001b[0merrors\u001b[0m\u001b[0;34m=\u001b[0m\u001b[0;34m'replace'\u001b[0m\u001b[0;34m)\u001b[0m\u001b[0;34m\u001b[0m\u001b[0m\n\u001b[1;32m   2372\u001b[0m         \u001b[0;32melse\u001b[0m\u001b[0;34m:\u001b[0m\u001b[0;34m\u001b[0m\u001b[0m\n\u001b[0;32m-> 2373\u001b[0;31m             \u001b[0mf\u001b[0m \u001b[0;34m=\u001b[0m \u001b[0mopen\u001b[0m\u001b[0;34m(\u001b[0m\u001b[0mpath\u001b[0m\u001b[0;34m,\u001b[0m \u001b[0mmode\u001b[0m\u001b[0;34m)\u001b[0m\u001b[0;34m\u001b[0m\u001b[0m\n\u001b[0m\u001b[1;32m   2374\u001b[0m \u001b[0;34m\u001b[0m\u001b[0m\n\u001b[1;32m   2375\u001b[0m     \u001b[0;32mreturn\u001b[0m \u001b[0mf\u001b[0m\u001b[0;34m\u001b[0m\u001b[0m\n",
        "\u001b[0;31mIOError\u001b[0m: [Errno 2] No such file or directory: 'CS109-Project/total_region.csv'"
       ]
      }
     ],
     "prompt_number": 5
    },
    {
     "cell_type": "code",
     "collapsed": false,
     "input": [
      "# Broken down by country, specified into different regions (urban vs rural, and different administrative areas? )\n",
      "\n",
      "CI = info[(info['country'] == \"Cote d'Ivoire\")]\n",
      "CI.to_csv('/Users/haeunchang/CS109-Project/demography data/cote_i.csv')\n",
      "Guinea = info[(info['country'] == \"Guinea\")]\n",
      "Guinea.to_csv('/Users/haeunchang/CS109-Project/demography data/guinea.csv')\n",
      "Gambia = info[(info['country'] == \"Gambia\")]\n",
      "Gambia.to_csv('/Users/haeunchang/CS109-Project/demography data/gambia.csv')\n",
      "GB = info[(info['country'] == \"Guinea Bissau\")]\n",
      "GB.to_csv('/Users/haeunchang/CS109-Project/demography data/guineabissau.csv')\n",
      "Liberia = info[(info['country'] == \"Liberia\")]\n",
      "Liberia.to_csv('/Users/haeunchang/CS109-Project/demography data/liberia.csv')\n",
      "Mali = info[(info['country'] == \"Mali\")]\n",
      "Mali.to_csv('/Users/haeunchang/CS109-Project/demography data/mali.csv')\n",
      "Senegal = info[(info['country'] == \"Senegal\")]\n",
      "Senegal.to_csv('/Users/haeunchang/CS109-Project/demography data/senegal.csv')\n",
      "SL = info[(info['country'] == \"Sierra Leone\")]\n",
      "SL.to_csv('/Users/haeunchang/CS109-Project/demography data/sierraleone.csv')\n"
     ],
     "language": "python",
     "metadata": {},
     "outputs": []
    },
    {
     "cell_type": "code",
     "collapsed": false,
     "input": [
      "list(info.columns.values)"
     ],
     "language": "python",
     "metadata": {},
     "outputs": [
      {
       "metadata": {},
       "output_type": "pyout",
       "prompt_number": 12,
       "text": [
        "['pos',\n",
        " 'country_code',\n",
        " 'iso_code',\n",
        " 'country',\n",
        " 'year',\n",
        " 'gdlcode',\n",
        " 'region',\n",
        " 'iwi',\n",
        " 'edyr',\n",
        " 'edyr_fem',\n",
        " 'edyr_male',\n",
        " 'urban',\n",
        " 'wrk_agr',\n",
        " 'wrk_lnagr',\n",
        " 'wrk_unagr',\n",
        " 'tv',\n",
        " 'phone',\n",
        " 'electr',\n",
        " 'small_house',\n",
        " 'large_house',\n",
        " 'qual_floor',\n",
        " 'bad_floor',\n",
        " 'tap_water',\n",
        " 'bad_water',\n",
        " 'flush_toilet',\n",
        " 'bad_toilet',\n",
        " 'age09',\n",
        " 'age1019',\n",
        " 'age2029',\n",
        " 'age3039',\n",
        " 'age4049',\n",
        " 'age5059',\n",
        " 'age6069',\n",
        " 'age7079',\n",
        " 'age8089',\n",
        " 'age90hi',\n",
        " 'N',\n",
        " 'Nhh',\n",
        " 'sdr_id',\n",
        " 'sdr_name',\n",
        " 'sdr_level']"
       ]
      }
     ],
     "prompt_number": 12
    },
    {
     "cell_type": "code",
     "collapsed": false,
     "input": [],
     "language": "python",
     "metadata": {},
     "outputs": []
    }
   ],
   "metadata": {}
  }
 ]
}