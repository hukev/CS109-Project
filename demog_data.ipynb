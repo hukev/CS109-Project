{
 "metadata": {
  "name": "",
  "signature": "sha256:686c3cdb427b5a3bc65acc33b4bd262cd27003cc100461524da373cec0508354"
 },
 "nbformat": 3,
 "nbformat_minor": 0,
 "worksheets": [
  {
   "cells": [
    {
     "cell_type": "code",
     "collapsed": false,
     "input": [
      "# special IPython command to prepare the notebook for matplotlib\n",
      "%matplotlib inline \n",
      "\n",
      "import requests \n",
      "from StringIO import StringIO\n",
      "import numpy as np\n",
      "import pandas as pd # pandas\n",
      "import matplotlib.pyplot as plt # module for plotting \n",
      "import datetime as dt # module for manipulating dates and times\n",
      "import numpy.linalg as lin # module for performing linear algebra operations"
     ],
     "language": "python",
     "metadata": {},
     "outputs": [],
     "prompt_number": 2
    },
    {
     "cell_type": "code",
     "collapsed": false,
     "input": [
      "# get demographics tsv object\n",
      "url = \"http://api.qdatum.io/v1/pull/6?format=tsv\"\n",
      "info = pd.read_csv(url, sep='\\t')\n",
      "\n",
      "# see what countries are being used\n",
      "countries = info.drop_duplicates('country').country\n",
      "len(countries)\n",
      "# -> 8\n",
      "\n",
      "countries\n",
      "# 0     Cote d'Ivoire\n",
      "# 13           Guinea\n",
      "# 24           Gambia\n",
      "# 35    Guinea Bissau\n",
      "# 47          Liberia\n",
      "# 65             Mali\n",
      "# 74          Senegal\n",
      "# 87     Sierra Leone"
     ],
     "language": "python",
     "metadata": {},
     "outputs": [
      {
       "metadata": {},
       "output_type": "pyout",
       "prompt_number": 3,
       "text": [
        "0     Cote d'Ivoire\n",
        "13           Guinea\n",
        "24           Gambia\n",
        "35    Guinea Bissau\n",
        "47          Liberia\n",
        "65             Mali\n",
        "74          Senegal\n",
        "87     Sierra Leone\n",
        "Name: country, dtype: object"
       ]
      }
     ],
     "prompt_number": 3
    },
    {
     "cell_type": "code",
     "collapsed": false,
     "input": [
      "# Total regional information\n",
      "tot_region = info[(info.region == 'Total')]\n",
      "tot_region.to_csv('/Users/haeunchang/CS109-Project/total_region.csv')"
     ],
     "language": "python",
     "metadata": {},
     "outputs": [],
     "prompt_number": 9
    },
    {
     "cell_type": "code",
     "collapsed": false,
     "input": [
      "CI = info[(info['country'] == \"Cote d'Ivoire\")]\n",
      "CI.to_csv('/Users/haeunchang/CS109-Project/cote_i.csv')\n",
      "Guinea = info[(info['country'] == \"Guinea\")]\n",
      "Guinea.to_csv('/Users/haeunchang/CS109-Project/guinea.csv')\n",
      "Gambia = info[(info['country'] == \"Gambia\")]\n",
      "Gambia.to_csv('/Users/haeunchang/CS109-Project/gambia.csv')\n",
      "GB = info[(info['country'] == \"Guinea Bissau\")]\n",
      "GB.to_csv('/Users/haeunchang/CS109-Project/guineabissau.csv')\n",
      "Liberia = info[(info['country'] == \"Liberia\")]\n",
      "Liberia.\n",
      "Mali = info[(info['country'] == \"Mali\")]\n",
      "Senegal = info[(info['country'] == \"Senegal\")]\n",
      "SL = info[(info['country'] == \"Sierra Leone\")]\n"
     ],
     "language": "python",
     "metadata": {},
     "outputs": [],
     "prompt_number": 17
    },
    {
     "cell_type": "code",
     "collapsed": false,
     "input": [],
     "language": "python",
     "metadata": {},
     "outputs": []
    }
   ],
   "metadata": {}
  }
 ]
}